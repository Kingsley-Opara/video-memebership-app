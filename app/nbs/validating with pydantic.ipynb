{
 "cells": [
  {
   "cell_type": "code",
   "execution_count": 1,
   "id": "d18a22b7-990a-4072-b68b-250a670daba7",
   "metadata": {},
   "outputs": [
    {
     "name": "stdout",
     "output_type": "stream",
     "text": [
      "C:\\Users\\DELL\\devworkspace\\practice\\video_membership\n"
     ]
    },
    {
     "name": "stderr",
     "output_type": "stream",
     "text": [
      "c:\\users\\dell\\devworkspace\\practice\\video_membership\\venv\\lib\\site-packages\\cassandra\\cqlengine\\management.py:545: UserWarning: CQLENG_ALLOW_SCHEMA_MANAGEMENT environment variable is not set. Future versions of this package will require this variable to enable management functions.\n",
      "  warnings.warn(msg)\n"
     ]
    }
   ],
   "source": [
    "from pydantic import BaseModel, EmailStr, SecretStr, validator\n",
    "\n",
    "%cd ../..\n",
    "\n",
    "from app.users.models import User\n",
    "from app.db import get_session\n",
    "from cassandra.cqlengine.management import sync_table\n",
    "\n",
    "get_session()\n",
    "sync_table(User)"
   ]
  },
  {
   "cell_type": "code",
   "execution_count": 2,
   "id": "b28b9bad-31db-46f1-9236-2a97e468fa0c",
   "metadata": {},
   "outputs": [],
   "source": [
    "class UserLoginSchema(BaseModel):\n",
    "    email: EmailStr\n",
    "    password: SecretStr"
   ]
  },
  {
   "cell_type": "code",
   "execution_count": 3,
   "id": "31ef3684-2ab1-4d7a-997e-4c000676bd76",
   "metadata": {},
   "outputs": [],
   "source": [
    "post_data = {\n",
    "    'email': 'udo@gmail.com',\n",
    "    \"password\": 123\n",
    "}"
   ]
  },
  {
   "cell_type": "code",
   "execution_count": 4,
   "id": "df9d0674-0885-4634-9fb9-5f457f0e4993",
   "metadata": {},
   "outputs": [
    {
     "data": {
      "text/plain": [
       "[User(email = bobs@gmail.com, user_id = 5ba800a0-3955-11ee-8824-c0389681892e),\n",
       " User(email = kingscode125@gmail.com, user_id = 617b792e-3b9c-11ee-993c-c0389681892e),\n",
       " User(email = kingsley@gmail.com, user_id = 6a229968-394b-11ee-a85b-c0389681892e),\n",
       " User(email = kingsley@gmail.com, user_id = cb76fccd-3952-11ee-b137-c0389681892e),\n",
       " User(email = kingsley@gmail.com, user_id = 41b2a3c9-3953-11ee-9caa-c0389681892e),\n",
       " User(email = bob@gmail.com, user_id = 4811c407-3955-11ee-b9e2-c0389681892e),\n",
       " User(email = kingscode124@gmail.com, user_id = 6a229968-394b-11ee-a85b-c0389681892e),\n",
       " User(email = kingscode124@gmail.com, user_id = 6b7e4e77-3953-11ee-81f9-c0389681892e),\n",
       " User(email = kingscode125@goat.com, user_id = f63b511d-3b9c-11ee-8ba4-c0389681892e)]"
      ]
     },
     "execution_count": 4,
     "metadata": {},
     "output_type": "execute_result"
    }
   ],
   "source": [
    "UserLoginSchema(**post_data)\n",
    "list(User.objects.all())"
   ]
  },
  {
   "cell_type": "code",
   "execution_count": 5,
   "id": "20916de5-086f-45b6-bbb4-96c1b67b8199",
   "metadata": {},
   "outputs": [],
   "source": [
    "class UserSignUpSchema(BaseModel):\n",
    "    email: EmailStr\n",
    "    password: SecretStr\n",
    "    password_confirm: SecretStr\n",
    "\n",
    "    @validator('email')\n",
    "    def validate_email_exists(cls, v, values, **kwargs):\n",
    "        email = v\n",
    "        queryset = User.objects.filter(email= email)\n",
    "        if queryset.count() != 0:\n",
    "            raise ValueError(\"Email is not avaliable.....try using another email\")\n",
    "        return email\n",
    "\n",
    "    @validator('password_confirm')\n",
    "    def password_match(cls, v, values, **kwargs):\n",
    "        password = values.get(\"password\")\n",
    "        password_confirm = v\n",
    "        print(password, password_confirm)\n",
    "\n",
    "        if password != password_confirm:\n",
    "            raise ValueError(\"Passwords do not match\")\n",
    "        return v"
   ]
  },
  {
   "cell_type": "code",
   "execution_count": 6,
   "id": "dfd48c71-2c52-41e4-bfb3-ddfb771b9803",
   "metadata": {},
   "outputs": [
    {
     "name": "stdout",
     "output_type": "stream",
     "text": [
      "********** **********\n"
     ]
    }
   ],
   "source": [
    "data = UserSignUpSchema(email = 'abc@gmail.com', password = 'abc', password_confirm = 'abc')"
   ]
  },
  {
   "cell_type": "code",
   "execution_count": 7,
   "id": "5cdef777-56cd-465b-9d3e-06c3d4cad354",
   "metadata": {},
   "outputs": [
    {
     "data": {
      "text/plain": [
       "'abc'"
      ]
     },
     "execution_count": 7,
     "metadata": {},
     "output_type": "execute_result"
    }
   ],
   "source": [
    "# lambda x: for i in x\n",
    "data.dict()['password'].get_secret_value()"
   ]
  },
  {
   "cell_type": "code",
   "execution_count": null,
   "id": "aefe358a-fbfb-405f-911f-9c6d9b7cbfe9",
   "metadata": {},
   "outputs": [],
   "source": []
  }
 ],
 "metadata": {
  "kernelspec": {
   "display_name": "Python 3 (ipykernel)",
   "language": "python",
   "name": "python3"
  },
  "language_info": {
   "codemirror_mode": {
    "name": "ipython",
    "version": 3
   },
   "file_extension": ".py",
   "mimetype": "text/x-python",
   "name": "python",
   "nbconvert_exporter": "python",
   "pygments_lexer": "ipython3",
   "version": "3.9.0"
  }
 },
 "nbformat": 4,
 "nbformat_minor": 5
}
