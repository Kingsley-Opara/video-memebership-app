{
 "cells": [
  {
   "cell_type": "code",
   "execution_count": 1,
   "id": "348b578b-82b0-413d-89e7-eaea75af8389",
   "metadata": {},
   "outputs": [
    {
     "name": "stderr",
     "output_type": "stream",
     "text": [
      "'pwd' is not recognized as an internal or external command,\n",
      "operable program or batch file.\n"
     ]
    }
   ],
   "source": [
    "!pwd"
   ]
  },
  {
   "cell_type": "code",
   "execution_count": 2,
   "id": "c234c161-15f7-40bb-9bf4-5b95af898990",
   "metadata": {},
   "outputs": [
    {
     "name": "stdout",
     "output_type": "stream",
     "text": [
      " Volume in drive C has no label.\n",
      " Volume Serial Number is 72C0-CB9F\n",
      "\n",
      " Directory of C:\\Users\\DELL\\devworkspace\\practice\\video_membership\\virtual\\nbs\n",
      "\n",
      "08/15/2023  04:08 PM    <DIR>          .\n",
      "08/15/2023  04:08 PM    <DIR>          ..\n",
      "08/15/2023  04:08 PM    <DIR>          .ipynb_checkpoints\n",
      "08/15/2023  04:08 PM                72 Untitled.ipynb\n",
      "               1 File(s)             72 bytes\n",
      "               3 Dir(s)  56,543,174,656 bytes free\n"
     ]
    }
   ],
   "source": [
    "!dir"
   ]
  },
  {
   "cell_type": "code",
   "execution_count": 3,
   "id": "7ddf3796-9e69-4868-92d5-e02ab5ab338e",
   "metadata": {},
   "outputs": [],
   "source": [
    "!cd .."
   ]
  },
  {
   "cell_type": "code",
   "execution_count": 4,
   "id": "45f07708-6e37-488f-9f9e-3d02a0e63c8e",
   "metadata": {},
   "outputs": [
    {
     "name": "stdout",
     "output_type": "stream",
     "text": [
      " Volume in drive C has no label.\n",
      " Volume Serial Number is 72C0-CB9F\n",
      "\n",
      " Directory of C:\\Users\\DELL\\devworkspace\\practice\\video_membership\\virtual\\nbs\n",
      "\n",
      "08/15/2023  04:08 PM    <DIR>          .\n",
      "08/15/2023  04:08 PM    <DIR>          ..\n",
      "08/15/2023  04:08 PM    <DIR>          .ipynb_checkpoints\n",
      "08/15/2023  04:08 PM                72 Untitled.ipynb\n",
      "               1 File(s)             72 bytes\n",
      "               3 Dir(s)  56,544,739,328 bytes free\n"
     ]
    }
   ],
   "source": [
    "!dir"
   ]
  },
  {
   "cell_type": "code",
   "execution_count": 5,
   "id": "51d7ba64-f83a-47c9-bec7-f09452aa3059",
   "metadata": {},
   "outputs": [
    {
     "name": "stdout",
     "output_type": "stream",
     "text": [
      "C:\\Users\\DELL\\devworkspace\\practice\\video_membership\\virtual\n"
     ]
    }
   ],
   "source": [
    "%cd .."
   ]
  },
  {
   "cell_type": "code",
   "execution_count": 8,
   "id": "9af4f02a-a671-4073-aaf2-5fb2de2b23bb",
   "metadata": {},
   "outputs": [
    {
     "ename": "ValidationError",
     "evalue": "3 validation errors for Settings\nkeyspace\n  field required (type=value_error.missing)\ndb_client_id\n  field required (type=value_error.missing)\ndb_client_secret\n  field required (type=value_error.missing)",
     "output_type": "error",
     "traceback": [
      "\u001b[1;31m---------------------------------------------------------------------------\u001b[0m",
      "\u001b[1;31mValidationError\u001b[0m                           Traceback (most recent call last)",
      "Cell \u001b[1;32mIn[8], line 1\u001b[0m\n\u001b[1;32m----> 1\u001b[0m \u001b[38;5;28;01mfrom\u001b[39;00m \u001b[38;5;21;01mapp\u001b[39;00m\u001b[38;5;21;01m.\u001b[39;00m\u001b[38;5;21;01mdb\u001b[39;00m \u001b[38;5;28;01mimport\u001b[39;00m get_session\n\u001b[0;32m      2\u001b[0m \u001b[38;5;28;01mfrom\u001b[39;00m \u001b[38;5;21;01mapp\u001b[39;00m\u001b[38;5;21;01m.\u001b[39;00m\u001b[38;5;21;01musers\u001b[39;00m\u001b[38;5;21;01m.\u001b[39;00m\u001b[38;5;21;01mmodel\u001b[39;00m \u001b[38;5;28;01mimport\u001b[39;00m User\n\u001b[0;32m      3\u001b[0m \u001b[38;5;28;01mfrom\u001b[39;00m \u001b[38;5;21;01mcassandra\u001b[39;00m\u001b[38;5;21;01m.\u001b[39;00m\u001b[38;5;21;01mcqlengine\u001b[39;00m\u001b[38;5;21;01m.\u001b[39;00m\u001b[38;5;21;01mmanagements\u001b[39;00m \u001b[38;5;28;01mimport\u001b[39;00m sync_table\n",
      "File \u001b[1;32m~\\devworkspace\\practice\\video_membership\\virtual\\app\\db.py:11\u001b[0m\n\u001b[0;32m      7\u001b[0m BASE_DIR \u001b[38;5;241m=\u001b[39m pathlib\u001b[38;5;241m.\u001b[39mPath(\u001b[38;5;18m__name__\u001b[39m)\u001b[38;5;241m.\u001b[39mresolve()\u001b[38;5;241m.\u001b[39mparent\n\u001b[0;32m      9\u001b[0m ASTRADB_CONNECT_BUNDLE \u001b[38;5;241m=\u001b[39m BASE_DIR\u001b[38;5;241m/\u001b[39m \u001b[38;5;124m'\u001b[39m\u001b[38;5;124mconnect_db\u001b[39m\u001b[38;5;124m'\u001b[39m\u001b[38;5;241m/\u001b[39m\u001b[38;5;124m'\u001b[39m\u001b[38;5;124mastra_db.zip\u001b[39m\u001b[38;5;124m'\u001b[39m\n\u001b[1;32m---> 11\u001b[0m ASTRADB_CLIENT_ID \u001b[38;5;241m=\u001b[39m \u001b[43mconfig\u001b[49m\u001b[38;5;241;43m.\u001b[39;49m\u001b[43mget_settings\u001b[49m\u001b[43m(\u001b[49m\u001b[43m)\u001b[49m\u001b[38;5;241m.\u001b[39mdb_client_id\n\u001b[0;32m     12\u001b[0m ASTRADB_CLIENT_SECRET \u001b[38;5;241m=\u001b[39m config\u001b[38;5;241m.\u001b[39mget_settings()\u001b[38;5;241m.\u001b[39mdb_client_secret\n\u001b[0;32m     14\u001b[0m \u001b[38;5;28;01mdef\u001b[39;00m \u001b[38;5;21mget_session\u001b[39m():\n",
      "File \u001b[1;32m~\\devworkspace\\practice\\video_membership\\virtual\\app\\config.py:15\u001b[0m, in \u001b[0;36mget_settings\u001b[1;34m()\u001b[0m\n\u001b[0;32m     13\u001b[0m \u001b[38;5;129m@lru_cache\u001b[39m()\n\u001b[0;32m     14\u001b[0m \u001b[38;5;28;01mdef\u001b[39;00m \u001b[38;5;21mget_settings\u001b[39m():\n\u001b[1;32m---> 15\u001b[0m     \u001b[38;5;28;01mreturn\u001b[39;00m \u001b[43mSettings\u001b[49m\u001b[43m(\u001b[49m\u001b[43m)\u001b[49m\n",
      "File \u001b[1;32m~\\devworkspace\\practice\\video_membership\\virtual\\lib\\site-packages\\pydantic\\env_settings.py:40\u001b[0m, in \u001b[0;36mpydantic.env_settings.BaseSettings.__init__\u001b[1;34m()\u001b[0m\n",
      "File \u001b[1;32m~\\devworkspace\\practice\\video_membership\\virtual\\lib\\site-packages\\pydantic\\main.py:341\u001b[0m, in \u001b[0;36mpydantic.main.BaseModel.__init__\u001b[1;34m()\u001b[0m\n",
      "\u001b[1;31mValidationError\u001b[0m: 3 validation errors for Settings\nkeyspace\n  field required (type=value_error.missing)\ndb_client_id\n  field required (type=value_error.missing)\ndb_client_secret\n  field required (type=value_error.missing)"
     ]
    }
   ],
   "source": [
    "from app.db import get_session\n",
    "from app.users.model import User\n",
    "from cassandra.cqlengine.managements import sync_table"
   ]
  },
  {
   "cell_type": "code",
   "execution_count": 10,
   "id": "ee70e66a-2f94-411e-888d-f2f9e6e66663",
   "metadata": {},
   "outputs": [
    {
     "name": "stdout",
     "output_type": "stream",
     "text": [
      " Volume in drive C has no label.\n",
      " Volume Serial Number is 72C0-CB9F\n",
      "\n",
      " Directory of C:\\Users\\DELL\\devworkspace\\practice\\video_membership\\virtual\\nbs\n",
      "\n",
      "08/15/2023  04:14 PM    <DIR>          .\n",
      "08/15/2023  04:14 PM    <DIR>          ..\n",
      "08/15/2023  04:08 PM    <DIR>          .ipynb_checkpoints\n",
      "08/15/2023  04:14 PM             7,216 Untitled.ipynb\n",
      "               1 File(s)          7,216 bytes\n",
      "               3 Dir(s)  56,526,917,632 bytes free\n"
     ]
    }
   ],
   "source": [
    "!dir"
   ]
  },
  {
   "cell_type": "code",
   "execution_count": 11,
   "id": "a9ff8c6c-2bd2-464d-b15e-88a19b9dbdd7",
   "metadata": {},
   "outputs": [
    {
     "name": "stdout",
     "output_type": "stream",
     "text": [
      "C:\\Users\\DELL\\devworkspace\\practice\\video_membership\\virtual\n"
     ]
    }
   ],
   "source": [
    "%cd .."
   ]
  },
  {
   "cell_type": "code",
   "execution_count": 25,
   "id": "fc813fe3-5162-40d1-8c29-b19ba8acd081",
   "metadata": {},
   "outputs": [],
   "source": [
    "from app.db import get_session\n",
    "from app.users.models import User\n",
    "from cassandra.cqlengine.management import sync_table\n",
    "import os"
   ]
  },
  {
   "cell_type": "code",
   "execution_count": 38,
   "id": "959f6bf5-ebd0-42fb-b064-7da1dc0f5655",
   "metadata": {},
   "outputs": [],
   "source": [
    "get_session()\n",
    "sync_table(User)\n",
    "# os.environ.setdefault('CQLENG_ALLOW_SCHEMA_MANAGEMENT', '1')"
   ]
  },
  {
   "cell_type": "raw",
   "id": "f7e68c8c-da5f-4cb2-9a8b-1616422b171b",
   "metadata": {},
   "source": []
  },
  {
   "cell_type": "code",
   "execution_count": 40,
   "id": "36c052f2-32a7-42e3-8e65-f7b502fbd870",
   "metadata": {},
   "outputs": [],
   "source": [
    "user = User.create_user(email = 'kingscode125@gmail.com', password = 'kingopara277')"
   ]
  },
  {
   "cell_type": "code",
   "execution_count": 42,
   "id": "7bf33261-9929-4d97-ba99-7cc80d0c3629",
   "metadata": {},
   "outputs": [
    {
     "data": {
      "text/plain": [
       "['DoesNotExist',\n",
       " 'MultipleObjectsReturned',\n",
       " '__abstract__',\n",
       " '__class__',\n",
       " '__compute_routing_key__',\n",
       " '__connection__',\n",
       " '__consistency__',\n",
       " '__default_ttl__',\n",
       " '__delattr__',\n",
       " '__dict__',\n",
       " '__dir__',\n",
       " '__discriminator_value__',\n",
       " '__dmlquery__',\n",
       " '__doc__',\n",
       " '__eq__',\n",
       " '__format__',\n",
       " '__ge__',\n",
       " '__getattribute__',\n",
       " '__getitem__',\n",
       " '__gt__',\n",
       " '__hash__',\n",
       " '__init__',\n",
       " '__init_subclass__',\n",
       " '__iter__',\n",
       " '__keyspace__',\n",
       " '__le__',\n",
       " '__len__',\n",
       " '__lt__',\n",
       " '__module__',\n",
       " '__ne__',\n",
       " '__new__',\n",
       " '__options__',\n",
       " '__queryset__',\n",
       " '__reduce__',\n",
       " '__reduce_ex__',\n",
       " '__repr__',\n",
       " '__setattr__',\n",
       " '__setitem__',\n",
       " '__sizeof__',\n",
       " '__str__',\n",
       " '__subclasshook__',\n",
       " '__table_name__',\n",
       " '__table_name_case_sensitive__',\n",
       " '__weakref__',\n",
       " '_as_dict',\n",
       " '_batch',\n",
       " '_can_update',\n",
       " '_class_batch',\n",
       " '_class_get_connection',\n",
       " '_clustering_keys',\n",
       " '_columns',\n",
       " '_conditional',\n",
       " '_connection',\n",
       " '_construct_instance',\n",
       " '_db_map',\n",
       " '_defined_columns',\n",
       " '_discover_polymorphic_submodels',\n",
       " '_discriminator_column',\n",
       " '_discriminator_column_name',\n",
       " '_discriminator_map',\n",
       " '_dynamic_columns',\n",
       " '_get_column',\n",
       " '_get_column_by_db_name',\n",
       " '_get_connection',\n",
       " '_get_keyspace',\n",
       " '_get_model_by_discriminator_value',\n",
       " '_has_counter',\n",
       " '_if_exists',\n",
       " '_if_not_exists',\n",
       " '_inst_batch',\n",
       " '_inst_get_connection',\n",
       " '_is_persisted',\n",
       " '_is_polymorphic',\n",
       " '_is_polymorphic_base',\n",
       " '_key_serializer',\n",
       " '_len',\n",
       " '_partition_key_index',\n",
       " '_partition_keys',\n",
       " '_pk_name',\n",
       " '_polymorphic_base',\n",
       " '_primary_keys',\n",
       " '_raw_column_family_name',\n",
       " '_routing_key_from_values',\n",
       " '_set_column_value',\n",
       " '_set_persisted',\n",
       " '_table_name',\n",
       " '_timeout',\n",
       " '_timestamp',\n",
       " '_ttl',\n",
       " '_values',\n",
       " 'all',\n",
       " 'batch',\n",
       " 'column_family_name',\n",
       " 'consistency',\n",
       " 'create',\n",
       " 'create_user',\n",
       " 'delete',\n",
       " 'email',\n",
       " 'filter',\n",
       " 'get',\n",
       " 'get_changed_columns',\n",
       " 'if_exists',\n",
       " 'if_not_exists',\n",
       " 'iff',\n",
       " 'items',\n",
       " 'keys',\n",
       " 'objects',\n",
       " 'password',\n",
       " 'pk',\n",
       " 'save',\n",
       " 'set_password',\n",
       " 'timeout',\n",
       " 'timestamp',\n",
       " 'ttl',\n",
       " 'update',\n",
       " 'user_id',\n",
       " 'using',\n",
       " 'validate',\n",
       " 'values',\n",
       " 'verify_password']"
      ]
     },
     "execution_count": 42,
     "metadata": {},
     "output_type": "execute_result"
    }
   ],
   "source": [
    "dir(user)"
   ]
  },
  {
   "cell_type": "code",
   "execution_count": 44,
   "id": "ab422de7-8f4c-4c43-ad65-f89d19e776ba",
   "metadata": {},
   "outputs": [
    {
     "data": {
      "text/plain": [
       "'$argon2id$v=19$m=65536,t=3,p=4$IvReFjBZ7hLgTUojGXlsOw$IFVtOF1gBfAS8Gz+8GxrqSL1VCRxbZ4yknq8Y6to8zU'"
      ]
     },
     "execution_count": 44,
     "metadata": {},
     "output_type": "execute_result"
    }
   ],
   "source": [
    "user.password"
   ]
  },
  {
   "cell_type": "code",
   "execution_count": 46,
   "id": "6f94dbff-46ba-4261-9928-75c575a87e18",
   "metadata": {},
   "outputs": [],
   "source": [
    "user2 = User.create_user(email = 'kingscode125@goat.com', password = 'kingopara277')"
   ]
  },
  {
   "cell_type": "code",
   "execution_count": 47,
   "id": "60fab653-decc-499f-96d8-a25e441c95ce",
   "metadata": {},
   "outputs": [
    {
     "data": {
      "text/plain": [
       "'kingscode125@goat.com'"
      ]
     },
     "execution_count": 47,
     "metadata": {},
     "output_type": "execute_result"
    }
   ],
   "source": [
    "user2.email"
   ]
  },
  {
   "cell_type": "code",
   "execution_count": 49,
   "id": "ee8b0b2e-a85c-4c05-89a6-5f7310c3cb99",
   "metadata": {},
   "outputs": [
    {
     "data": {
      "text/plain": [
       "(True, '')"
      ]
     },
     "execution_count": 49,
     "metadata": {},
     "output_type": "execute_result"
    }
   ],
   "source": [
    "user2.verify_password('kingopara277')"
   ]
  },
  {
   "cell_type": "code",
   "execution_count": null,
   "id": "e47f8e68-36a2-4af0-a062-e4eda214ac9b",
   "metadata": {},
   "outputs": [],
   "source": []
  }
 ],
 "metadata": {
  "kernelspec": {
   "display_name": "Python 3 (ipykernel)",
   "language": "python",
   "name": "python3"
  },
  "language_info": {
   "codemirror_mode": {
    "name": "ipython",
    "version": 3
   },
   "file_extension": ".py",
   "mimetype": "text/x-python",
   "name": "python",
   "nbconvert_exporter": "python",
   "pygments_lexer": "ipython3",
   "version": "3.9.0"
  }
 },
 "nbformat": 4,
 "nbformat_minor": 5
}
